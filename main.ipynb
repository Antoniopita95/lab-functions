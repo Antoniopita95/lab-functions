{
 "cells": [
  {
   "cell_type": "markdown",
   "metadata": {},
   "source": [
    "# Functions"
   ]
  },
  {
   "cell_type": "markdown",
   "metadata": {},
   "source": [
    "On this lab we will put to practice some of the concepts we have learned on this past few days.\n",
    "\n",
    "`NOTE: On this lab you should try to write all the functions yourself using only the most basic of python syntax and without functions such as len, count, sum, max, min, in, etc. Give it a try. 🧑🏻‍💻👩🏻‍💻`\n",
    "\n",
    "The cell after each exercise contains a few tests to check if your function works as expected."
   ]
  },
  {
   "cell_type": "code",
   "execution_count": 2,
   "metadata": {},
   "outputs": [],
   "source": [
    "from mod.testing import *\n",
    "import unittest"
   ]
  },
  {
   "cell_type": "markdown",
   "metadata": {},
   "source": [
    "## 1. Write a function that returns the greater of two numbers"
   ]
  },
  {
   "cell_type": "code",
   "execution_count": 4,
   "metadata": {},
   "outputs": [],
   "source": [
    "def greater(a,b):\n",
    "    if a > b:\n",
    "        return a\n",
    "    else:\n",
    "        return b "
   ]
  },
  {
   "cell_type": "code",
   "execution_count": 5,
   "metadata": {},
   "outputs": [
    {
     "name": "stderr",
     "output_type": "stream",
     "text": [
      "....................................................................................................\n",
      "----------------------------------------------------------------------\n",
      "Ran 100 tests in 0.067s\n",
      "\n",
      "OK\n"
     ]
    }
   ],
   "source": [
    "# This will test your function \n",
    "test_greater(greater)"
   ]
  },
  {
   "cell_type": "markdown",
   "metadata": {},
   "source": [
    "## 2. Now write a function that returns the largest element on a list"
   ]
  },
  {
   "cell_type": "code",
   "execution_count": 53,
   "metadata": {},
   "outputs": [],
   "source": [
    "def greatest(arr):\n",
    "    aux = 0\n",
    "    for num in arr:\n",
    "        if num > aux:\n",
    "            aux = num\n",
    "    return aux"
   ]
  },
  {
   "cell_type": "code",
   "execution_count": 54,
   "metadata": {},
   "outputs": [
    {
     "name": "stderr",
     "output_type": "stream",
     "text": [
      "....................................................................................................\n",
      "----------------------------------------------------------------------\n",
      "Ran 100 tests in 0.075s\n",
      "\n",
      "OK\n"
     ]
    }
   ],
   "source": [
    "# This will test your function \n",
    "test_greatest(greatest)"
   ]
  },
  {
   "cell_type": "markdown",
   "metadata": {},
   "source": [
    "## 3. Write a function that sums all the elements on a list"
   ]
  },
  {
   "cell_type": "code",
   "execution_count": 9,
   "metadata": {},
   "outputs": [],
   "source": [
    "def sum_all(arr):\n",
    "    suma = 0\n",
    "    for num in arr:\n",
    "        suma += num\n",
    "    return (suma)"
   ]
  },
  {
   "cell_type": "code",
   "execution_count": 10,
   "metadata": {},
   "outputs": [
    {
     "name": "stderr",
     "output_type": "stream",
     "text": [
      "....................................................................................................\n",
      "----------------------------------------------------------------------\n",
      "Ran 100 tests in 0.089s\n",
      "\n",
      "OK\n"
     ]
    }
   ],
   "source": [
    "# This will test your function \n",
    "test_sum(sum_all)"
   ]
  },
  {
   "cell_type": "markdown",
   "metadata": {},
   "source": [
    "## 4. Write another function that multiplies all the elements on a list"
   ]
  },
  {
   "cell_type": "code",
   "execution_count": 14,
   "metadata": {},
   "outputs": [],
   "source": [
    "def mult_all(arr):\n",
    "    mult = 1\n",
    "    for num in arr:\n",
    "        mult *= num\n",
    "    return (mult)"
   ]
  },
  {
   "cell_type": "code",
   "execution_count": 15,
   "metadata": {},
   "outputs": [
    {
     "name": "stderr",
     "output_type": "stream",
     "text": [
      "....................................................................................................\n",
      "----------------------------------------------------------------------\n",
      "Ran 100 tests in 0.079s\n",
      "\n",
      "OK\n"
     ]
    }
   ],
   "source": [
    "# This will test your function \n",
    "test_mult(mult_all)"
   ]
  },
  {
   "cell_type": "markdown",
   "metadata": {},
   "source": [
    "## 5. Now combine those two ideas and write a function that receives a list and either \"+\" or \"*\" and outputs acordingly"
   ]
  },
  {
   "cell_type": "code",
   "execution_count": 56,
   "metadata": {},
   "outputs": [],
   "source": [
    "def oper_all(arr, oper):\n",
    "    if oper == \"+\":\n",
    "        suma = 0\n",
    "        for num in arr:\n",
    "            suma += num\n",
    "        return(suma) \n",
    "        \n",
    "    if oper == \"*\":\n",
    "        mult = 1\n",
    "        for num in arr:\n",
    "             mult *= num\n",
    "        return(mult)"
   ]
  },
  {
   "cell_type": "code",
   "execution_count": 57,
   "metadata": {},
   "outputs": [
    {
     "name": "stderr",
     "output_type": "stream",
     "text": [
      "....................................................................................................\n",
      "----------------------------------------------------------------------\n",
      "Ran 100 tests in 0.084s\n",
      "\n",
      "OK\n"
     ]
    }
   ],
   "source": [
    "# This will test your function \n",
    "test_operations(oper_all)"
   ]
  },
  {
   "cell_type": "markdown",
   "metadata": {},
   "source": [
    "## 6. Write a function that returns the factorial of a number."
   ]
  },
  {
   "cell_type": "code",
   "execution_count": 17,
   "metadata": {},
   "outputs": [],
   "source": [
    "def factorial(n):\n",
    "    if n == 0:\n",
    "        return 1\n",
    "    else:\n",
    "        return n * factorial(n-1)"
   ]
  },
  {
   "cell_type": "code",
   "execution_count": 18,
   "metadata": {},
   "outputs": [
    {
     "name": "stderr",
     "output_type": "stream",
     "text": [
      "....................................................................................................\n",
      "----------------------------------------------------------------------\n",
      "Ran 100 tests in 0.069s\n",
      "\n",
      "OK\n"
     ]
    }
   ],
   "source": [
    "# This will test your function \n",
    "test_factorial(factorial)"
   ]
  },
  {
   "cell_type": "markdown",
   "metadata": {},
   "source": [
    "## 7. Write a function that takes a list and returns a list of the unique values.\n",
    "\n",
    "`NOTE: You cannot use set. 🤔`"
   ]
  },
  {
   "cell_type": "code",
   "execution_count": 27,
   "metadata": {},
   "outputs": [],
   "source": [
    "def unique(arr):\n",
    "    new_list = []\n",
    "    for v in arr:\n",
    "        if v not in new_list:\n",
    "            new_list.append(v)\n",
    "    return new_list"
   ]
  },
  {
   "cell_type": "code",
   "execution_count": 28,
   "metadata": {},
   "outputs": [
    {
     "name": "stderr",
     "output_type": "stream",
     "text": [
      "....................................................................................................\n",
      "----------------------------------------------------------------------\n",
      "Ran 100 tests in 0.193s\n",
      "\n",
      "OK\n"
     ]
    }
   ],
   "source": [
    "# This will test your function \n",
    "test_unique(unique)"
   ]
  },
  {
   "cell_type": "markdown",
   "metadata": {},
   "source": [
    "## 8. Write a function that returns the mode of a list, i.e.: the element that appears the most times.\n",
    "`NOTE: You should not use count... 🧐`"
   ]
  },
  {
   "cell_type": "code",
   "execution_count": 60,
   "metadata": {},
   "outputs": [],
   "source": [
    "def mode_counter(arr):\n",
    "    counter = {}\n",
    "    for num in arr:\n",
    "        if num in counter:\n",
    "                counter[num] += 1\n",
    "        else:\n",
    "            counter[num] = 1\n",
    "    max_val = 0\n",
    "    for key, values in counter.items():\n",
    "            if values > max_val:\n",
    "                max_val = values \n",
    "                max_key = key\n",
    "    return max_key"
   ]
  },
  {
   "cell_type": "code",
   "execution_count": 61,
   "metadata": {},
   "outputs": [
    {
     "name": "stderr",
     "output_type": "stream",
     "text": [
      "....................................................................................................\n",
      "----------------------------------------------------------------------\n",
      "Ran 100 tests in 0.082s\n",
      "\n",
      "OK\n"
     ]
    }
   ],
   "source": [
    "# This will test your function \n",
    "test_mode(mode_counter)"
   ]
  },
  {
   "cell_type": "markdown",
   "metadata": {},
   "source": [
    "## 9. Write a function that calculates the standard deviation of a list.\n",
    "`NOTE: Do not use any libraries or already built functions. 😉`"
   ]
  },
  {
   "cell_type": "code",
   "execution_count": null,
   "metadata": {},
   "outputs": [],
   "source": [
    "from statistics import stdev\n",
    "def st_dev(arr):\n",
    "    pass"
   ]
  },
  {
   "cell_type": "code",
   "execution_count": null,
   "metadata": {},
   "outputs": [],
   "source": [
    "# This will test your function \n",
    "test_stdev(st_dev)"
   ]
  },
  {
   "cell_type": "markdown",
   "metadata": {},
   "source": [
    "## 10. Write a function to check if a string is a pangram, i.e.: if it contains all the letters of the alphabet at least once. Mind that the strings may contain characters that are not letters."
   ]
  },
  {
   "cell_type": "code",
   "execution_count": 47,
   "metadata": {},
   "outputs": [],
   "source": [
    "def pangram(string):\n",
    "    alphabet = [\"a\", \"b\", \"c\", \"d\", \"e\", \"f\", \"g\", \"h\", \"i\", \"j\", \"k\", \"l\", \"m\", \"n\", \"ñ\", \"o\", \"p\", \"q\", \"r\", \"s\", \"t\",\"u\",\"v\",\"w\",\"x\",\"y\",\"z\"]\n",
    "    for letter in alphabet:        \n",
    "        if letter in sentence.lower(): \n",
    "            return True\n",
    "        else:\n",
    "            return False\n"
   ]
  },
  {
   "cell_type": "code",
   "execution_count": 48,
   "metadata": {},
   "outputs": [
    {
     "name": "stderr",
     "output_type": "stream",
     "text": [
      "EEEEEEEEEEEEEEEEEEEEEEEEEEEEEE\n",
      "======================================================================\n",
      "ERROR: runTest (mod.testing.test_pangram.<locals>.TestKnown)\n",
      "----------------------------------------------------------------------\n",
      "Traceback (most recent call last):\n",
      "  File \"C:\\Users\\isabe\\Ironhack\\Labs\\lab-functions\\mod\\testing.py\", line 172, in runTest\n",
      "    self.assertEqual(fn(self.input), self.output, f\"Should be {self.output}\")\n",
      "  File \"<ipython-input-47-f7a7b3d71aa5>\", line 4, in pangram\n",
      "    if letter in sentence.lower():\n",
      "NameError: name 'sentence' is not defined\n",
      "\n",
      "======================================================================\n",
      "ERROR: runTest (mod.testing.test_pangram.<locals>.TestKnown)\n",
      "----------------------------------------------------------------------\n",
      "Traceback (most recent call last):\n",
      "  File \"C:\\Users\\isabe\\Ironhack\\Labs\\lab-functions\\mod\\testing.py\", line 172, in runTest\n",
      "    self.assertEqual(fn(self.input), self.output, f\"Should be {self.output}\")\n",
      "  File \"<ipython-input-47-f7a7b3d71aa5>\", line 4, in pangram\n",
      "    if letter in sentence.lower():\n",
      "NameError: name 'sentence' is not defined\n",
      "\n",
      "======================================================================\n",
      "ERROR: runTest (mod.testing.test_pangram.<locals>.TestKnown)\n",
      "----------------------------------------------------------------------\n",
      "Traceback (most recent call last):\n",
      "  File \"C:\\Users\\isabe\\Ironhack\\Labs\\lab-functions\\mod\\testing.py\", line 172, in runTest\n",
      "    self.assertEqual(fn(self.input), self.output, f\"Should be {self.output}\")\n",
      "  File \"<ipython-input-47-f7a7b3d71aa5>\", line 4, in pangram\n",
      "    if letter in sentence.lower():\n",
      "NameError: name 'sentence' is not defined\n",
      "\n",
      "======================================================================\n",
      "ERROR: runTest (mod.testing.test_pangram.<locals>.TestKnown)\n",
      "----------------------------------------------------------------------\n",
      "Traceback (most recent call last):\n",
      "  File \"C:\\Users\\isabe\\Ironhack\\Labs\\lab-functions\\mod\\testing.py\", line 172, in runTest\n",
      "    self.assertEqual(fn(self.input), self.output, f\"Should be {self.output}\")\n",
      "  File \"<ipython-input-47-f7a7b3d71aa5>\", line 4, in pangram\n",
      "    if letter in sentence.lower():\n",
      "NameError: name 'sentence' is not defined\n",
      "\n",
      "======================================================================\n",
      "ERROR: runTest (mod.testing.test_pangram.<locals>.TestKnown)\n",
      "----------------------------------------------------------------------\n",
      "Traceback (most recent call last):\n",
      "  File \"C:\\Users\\isabe\\Ironhack\\Labs\\lab-functions\\mod\\testing.py\", line 172, in runTest\n",
      "    self.assertEqual(fn(self.input), self.output, f\"Should be {self.output}\")\n",
      "  File \"<ipython-input-47-f7a7b3d71aa5>\", line 4, in pangram\n",
      "    if letter in sentence.lower():\n",
      "NameError: name 'sentence' is not defined\n",
      "\n",
      "======================================================================\n",
      "ERROR: runTest (mod.testing.test_pangram.<locals>.TestKnown)\n",
      "----------------------------------------------------------------------\n",
      "Traceback (most recent call last):\n",
      "  File \"C:\\Users\\isabe\\Ironhack\\Labs\\lab-functions\\mod\\testing.py\", line 172, in runTest\n",
      "    self.assertEqual(fn(self.input), self.output, f\"Should be {self.output}\")\n",
      "  File \"<ipython-input-47-f7a7b3d71aa5>\", line 4, in pangram\n",
      "    if letter in sentence.lower():\n",
      "NameError: name 'sentence' is not defined\n",
      "\n",
      "======================================================================\n",
      "ERROR: runTest (mod.testing.test_pangram.<locals>.TestKnown)\n",
      "----------------------------------------------------------------------\n",
      "Traceback (most recent call last):\n",
      "  File \"C:\\Users\\isabe\\Ironhack\\Labs\\lab-functions\\mod\\testing.py\", line 172, in runTest\n",
      "    self.assertEqual(fn(self.input), self.output, f\"Should be {self.output}\")\n",
      "  File \"<ipython-input-47-f7a7b3d71aa5>\", line 4, in pangram\n",
      "    if letter in sentence.lower():\n",
      "NameError: name 'sentence' is not defined\n",
      "\n",
      "======================================================================\n",
      "ERROR: runTest (mod.testing.test_pangram.<locals>.TestKnown)\n",
      "----------------------------------------------------------------------\n",
      "Traceback (most recent call last):\n",
      "  File \"C:\\Users\\isabe\\Ironhack\\Labs\\lab-functions\\mod\\testing.py\", line 172, in runTest\n",
      "    self.assertEqual(fn(self.input), self.output, f\"Should be {self.output}\")\n",
      "  File \"<ipython-input-47-f7a7b3d71aa5>\", line 4, in pangram\n",
      "    if letter in sentence.lower():\n",
      "NameError: name 'sentence' is not defined\n",
      "\n",
      "======================================================================\n",
      "ERROR: runTest (mod.testing.test_pangram.<locals>.TestKnown)\n",
      "----------------------------------------------------------------------\n",
      "Traceback (most recent call last):\n",
      "  File \"C:\\Users\\isabe\\Ironhack\\Labs\\lab-functions\\mod\\testing.py\", line 172, in runTest\n",
      "    self.assertEqual(fn(self.input), self.output, f\"Should be {self.output}\")\n",
      "  File \"<ipython-input-47-f7a7b3d71aa5>\", line 4, in pangram\n",
      "    if letter in sentence.lower():\n",
      "NameError: name 'sentence' is not defined\n",
      "\n",
      "======================================================================\n",
      "ERROR: runTest (mod.testing.test_pangram.<locals>.TestKnown)\n",
      "----------------------------------------------------------------------\n",
      "Traceback (most recent call last):\n",
      "  File \"C:\\Users\\isabe\\Ironhack\\Labs\\lab-functions\\mod\\testing.py\", line 172, in runTest\n",
      "    self.assertEqual(fn(self.input), self.output, f\"Should be {self.output}\")\n",
      "  File \"<ipython-input-47-f7a7b3d71aa5>\", line 4, in pangram\n",
      "    if letter in sentence.lower():\n",
      "NameError: name 'sentence' is not defined\n",
      "\n",
      "======================================================================\n",
      "ERROR: runTest (mod.testing.test_pangram.<locals>.TestKnown)\n",
      "----------------------------------------------------------------------\n",
      "Traceback (most recent call last):\n",
      "  File \"C:\\Users\\isabe\\Ironhack\\Labs\\lab-functions\\mod\\testing.py\", line 172, in runTest\n",
      "    self.assertEqual(fn(self.input), self.output, f\"Should be {self.output}\")\n",
      "  File \"<ipython-input-47-f7a7b3d71aa5>\", line 4, in pangram\n",
      "    if letter in sentence.lower():\n",
      "NameError: name 'sentence' is not defined\n",
      "\n",
      "======================================================================\n",
      "ERROR: runTest (mod.testing.test_pangram.<locals>.TestKnown)\n",
      "----------------------------------------------------------------------\n",
      "Traceback (most recent call last):\n",
      "  File \"C:\\Users\\isabe\\Ironhack\\Labs\\lab-functions\\mod\\testing.py\", line 172, in runTest\n",
      "    self.assertEqual(fn(self.input), self.output, f\"Should be {self.output}\")\n",
      "  File \"<ipython-input-47-f7a7b3d71aa5>\", line 4, in pangram\n",
      "    if letter in sentence.lower():\n",
      "NameError: name 'sentence' is not defined\n",
      "\n",
      "======================================================================\n",
      "ERROR: runTest (mod.testing.test_pangram.<locals>.TestKnown)\n",
      "----------------------------------------------------------------------\n",
      "Traceback (most recent call last):\n",
      "  File \"C:\\Users\\isabe\\Ironhack\\Labs\\lab-functions\\mod\\testing.py\", line 172, in runTest\n",
      "    self.assertEqual(fn(self.input), self.output, f\"Should be {self.output}\")\n",
      "  File \"<ipython-input-47-f7a7b3d71aa5>\", line 4, in pangram\n",
      "    if letter in sentence.lower():\n",
      "NameError: name 'sentence' is not defined\n",
      "\n",
      "======================================================================\n",
      "ERROR: runTest (mod.testing.test_pangram.<locals>.TestKnown)\n",
      "----------------------------------------------------------------------\n",
      "Traceback (most recent call last):\n",
      "  File \"C:\\Users\\isabe\\Ironhack\\Labs\\lab-functions\\mod\\testing.py\", line 172, in runTest\n",
      "    self.assertEqual(fn(self.input), self.output, f\"Should be {self.output}\")\n",
      "  File \"<ipython-input-47-f7a7b3d71aa5>\", line 4, in pangram\n",
      "    if letter in sentence.lower():\n",
      "NameError: name 'sentence' is not defined\n",
      "\n",
      "======================================================================\n",
      "ERROR: runTest (mod.testing.test_pangram.<locals>.TestKnown)\n",
      "----------------------------------------------------------------------\n",
      "Traceback (most recent call last):\n",
      "  File \"C:\\Users\\isabe\\Ironhack\\Labs\\lab-functions\\mod\\testing.py\", line 172, in runTest\n",
      "    self.assertEqual(fn(self.input), self.output, f\"Should be {self.output}\")\n",
      "  File \"<ipython-input-47-f7a7b3d71aa5>\", line 4, in pangram\n",
      "    if letter in sentence.lower():\n",
      "NameError: name 'sentence' is not defined\n",
      "\n",
      "======================================================================\n",
      "ERROR: runTest (mod.testing.test_pangram.<locals>.TestKnown)\n",
      "----------------------------------------------------------------------\n",
      "Traceback (most recent call last):\n",
      "  File \"C:\\Users\\isabe\\Ironhack\\Labs\\lab-functions\\mod\\testing.py\", line 172, in runTest\n",
      "    self.assertEqual(fn(self.input), self.output, f\"Should be {self.output}\")\n",
      "  File \"<ipython-input-47-f7a7b3d71aa5>\", line 4, in pangram\n",
      "    if letter in sentence.lower():\n",
      "NameError: name 'sentence' is not defined\n",
      "\n",
      "======================================================================\n",
      "ERROR: runTest (mod.testing.test_pangram.<locals>.TestKnown)\n",
      "----------------------------------------------------------------------\n",
      "Traceback (most recent call last):\n",
      "  File \"C:\\Users\\isabe\\Ironhack\\Labs\\lab-functions\\mod\\testing.py\", line 172, in runTest\n",
      "    self.assertEqual(fn(self.input), self.output, f\"Should be {self.output}\")\n",
      "  File \"<ipython-input-47-f7a7b3d71aa5>\", line 4, in pangram\n",
      "    if letter in sentence.lower():\n",
      "NameError: name 'sentence' is not defined\n",
      "\n",
      "======================================================================\n",
      "ERROR: runTest (mod.testing.test_pangram.<locals>.TestKnown)\n",
      "----------------------------------------------------------------------\n",
      "Traceback (most recent call last):\n",
      "  File \"C:\\Users\\isabe\\Ironhack\\Labs\\lab-functions\\mod\\testing.py\", line 172, in runTest\n",
      "    self.assertEqual(fn(self.input), self.output, f\"Should be {self.output}\")\n",
      "  File \"<ipython-input-47-f7a7b3d71aa5>\", line 4, in pangram\n",
      "    if letter in sentence.lower():\n",
      "NameError: name 'sentence' is not defined\n",
      "\n",
      "======================================================================\n",
      "ERROR: runTest (mod.testing.test_pangram.<locals>.TestKnown)\n",
      "----------------------------------------------------------------------\n",
      "Traceback (most recent call last):\n",
      "  File \"C:\\Users\\isabe\\Ironhack\\Labs\\lab-functions\\mod\\testing.py\", line 172, in runTest\n",
      "    self.assertEqual(fn(self.input), self.output, f\"Should be {self.output}\")\n",
      "  File \"<ipython-input-47-f7a7b3d71aa5>\", line 4, in pangram\n",
      "    if letter in sentence.lower():\n",
      "NameError: name 'sentence' is not defined\n",
      "\n",
      "======================================================================\n",
      "ERROR: runTest (mod.testing.test_pangram.<locals>.TestKnown)\n",
      "----------------------------------------------------------------------\n",
      "Traceback (most recent call last):\n",
      "  File \"C:\\Users\\isabe\\Ironhack\\Labs\\lab-functions\\mod\\testing.py\", line 172, in runTest\n",
      "    self.assertEqual(fn(self.input), self.output, f\"Should be {self.output}\")\n",
      "  File \"<ipython-input-47-f7a7b3d71aa5>\", line 4, in pangram\n",
      "    if letter in sentence.lower():\n",
      "NameError: name 'sentence' is not defined\n",
      "\n",
      "======================================================================\n",
      "ERROR: runTest (mod.testing.test_pangram.<locals>.TestKnown)\n",
      "----------------------------------------------------------------------\n",
      "Traceback (most recent call last):\n",
      "  File \"C:\\Users\\isabe\\Ironhack\\Labs\\lab-functions\\mod\\testing.py\", line 172, in runTest\n",
      "    self.assertEqual(fn(self.input), self.output, f\"Should be {self.output}\")\n",
      "  File \"<ipython-input-47-f7a7b3d71aa5>\", line 4, in pangram\n",
      "    if letter in sentence.lower():\n",
      "NameError: name 'sentence' is not defined\n",
      "\n",
      "======================================================================\n",
      "ERROR: runTest (mod.testing.test_pangram.<locals>.TestKnown)\n",
      "----------------------------------------------------------------------\n",
      "Traceback (most recent call last):\n",
      "  File \"C:\\Users\\isabe\\Ironhack\\Labs\\lab-functions\\mod\\testing.py\", line 172, in runTest\n",
      "    self.assertEqual(fn(self.input), self.output, f\"Should be {self.output}\")\n",
      "  File \"<ipython-input-47-f7a7b3d71aa5>\", line 4, in pangram\n",
      "    if letter in sentence.lower():\n",
      "NameError: name 'sentence' is not defined\n",
      "\n",
      "======================================================================\n",
      "ERROR: runTest (mod.testing.test_pangram.<locals>.TestKnown)\n",
      "----------------------------------------------------------------------\n",
      "Traceback (most recent call last):\n",
      "  File \"C:\\Users\\isabe\\Ironhack\\Labs\\lab-functions\\mod\\testing.py\", line 172, in runTest\n",
      "    self.assertEqual(fn(self.input), self.output, f\"Should be {self.output}\")\n",
      "  File \"<ipython-input-47-f7a7b3d71aa5>\", line 4, in pangram\n",
      "    if letter in sentence.lower():\n",
      "NameError: name 'sentence' is not defined\n",
      "\n",
      "======================================================================\n",
      "ERROR: runTest (mod.testing.test_pangram.<locals>.TestKnown)\n",
      "----------------------------------------------------------------------\n",
      "Traceback (most recent call last):\n",
      "  File \"C:\\Users\\isabe\\Ironhack\\Labs\\lab-functions\\mod\\testing.py\", line 172, in runTest\n",
      "    self.assertEqual(fn(self.input), self.output, f\"Should be {self.output}\")\n",
      "  File \"<ipython-input-47-f7a7b3d71aa5>\", line 4, in pangram\n",
      "    if letter in sentence.lower():\n",
      "NameError: name 'sentence' is not defined\n",
      "\n",
      "======================================================================\n",
      "ERROR: runTest (mod.testing.test_pangram.<locals>.TestKnown)\n",
      "----------------------------------------------------------------------\n",
      "Traceback (most recent call last):\n",
      "  File \"C:\\Users\\isabe\\Ironhack\\Labs\\lab-functions\\mod\\testing.py\", line 172, in runTest\n",
      "    self.assertEqual(fn(self.input), self.output, f\"Should be {self.output}\")\n",
      "  File \"<ipython-input-47-f7a7b3d71aa5>\", line 4, in pangram\n",
      "    if letter in sentence.lower():\n",
      "NameError: name 'sentence' is not defined\n",
      "\n",
      "======================================================================\n",
      "ERROR: runTest (mod.testing.test_pangram.<locals>.TestKnown)\n",
      "----------------------------------------------------------------------\n",
      "Traceback (most recent call last):\n",
      "  File \"C:\\Users\\isabe\\Ironhack\\Labs\\lab-functions\\mod\\testing.py\", line 172, in runTest\n",
      "    self.assertEqual(fn(self.input), self.output, f\"Should be {self.output}\")\n",
      "  File \"<ipython-input-47-f7a7b3d71aa5>\", line 4, in pangram\n",
      "    if letter in sentence.lower():\n",
      "NameError: name 'sentence' is not defined\n",
      "\n",
      "======================================================================\n",
      "ERROR: runTest (mod.testing.test_pangram.<locals>.TestKnown)\n",
      "----------------------------------------------------------------------\n",
      "Traceback (most recent call last):\n",
      "  File \"C:\\Users\\isabe\\Ironhack\\Labs\\lab-functions\\mod\\testing.py\", line 172, in runTest\n",
      "    self.assertEqual(fn(self.input), self.output, f\"Should be {self.output}\")\n",
      "  File \"<ipython-input-47-f7a7b3d71aa5>\", line 4, in pangram\n",
      "    if letter in sentence.lower():\n",
      "NameError: name 'sentence' is not defined\n",
      "\n",
      "======================================================================\n",
      "ERROR: runTest (mod.testing.test_pangram.<locals>.TestKnown)\n",
      "----------------------------------------------------------------------\n",
      "Traceback (most recent call last):\n",
      "  File \"C:\\Users\\isabe\\Ironhack\\Labs\\lab-functions\\mod\\testing.py\", line 172, in runTest\n",
      "    self.assertEqual(fn(self.input), self.output, f\"Should be {self.output}\")\n",
      "  File \"<ipython-input-47-f7a7b3d71aa5>\", line 4, in pangram\n",
      "    if letter in sentence.lower():\n",
      "NameError: name 'sentence' is not defined\n",
      "\n",
      "======================================================================\n",
      "ERROR: runTest (mod.testing.test_pangram.<locals>.TestKnown)\n",
      "----------------------------------------------------------------------\n",
      "Traceback (most recent call last):\n",
      "  File \"C:\\Users\\isabe\\Ironhack\\Labs\\lab-functions\\mod\\testing.py\", line 172, in runTest\n",
      "    self.assertEqual(fn(self.input), self.output, f\"Should be {self.output}\")\n",
      "  File \"<ipython-input-47-f7a7b3d71aa5>\", line 4, in pangram\n",
      "    if letter in sentence.lower():\n",
      "NameError: name 'sentence' is not defined\n",
      "\n",
      "======================================================================\n",
      "ERROR: runTest (mod.testing.test_pangram.<locals>.TestKnown)\n",
      "----------------------------------------------------------------------\n",
      "Traceback (most recent call last):\n",
      "  File \"C:\\Users\\isabe\\Ironhack\\Labs\\lab-functions\\mod\\testing.py\", line 172, in runTest\n",
      "    self.assertEqual(fn(self.input), self.output, f\"Should be {self.output}\")\n",
      "  File \"<ipython-input-47-f7a7b3d71aa5>\", line 4, in pangram\n",
      "    if letter in sentence.lower():\n",
      "NameError: name 'sentence' is not defined\n",
      "\n",
      "----------------------------------------------------------------------\n",
      "Ran 30 tests in 0.049s\n",
      "\n",
      "FAILED (errors=30)\n"
     ]
    }
   ],
   "source": [
    "# This will test your function \n",
    "test_pangram(pangram)"
   ]
  },
  {
   "cell_type": "markdown",
   "metadata": {},
   "source": [
    "## 11. Write a function that receives a string of comma separated words and returns a string of comma separated words sorted alphabetically.\n",
    "\n",
    "`NOTE: You may use sorted but not split and definitely no join! 🤪`"
   ]
  },
  {
   "cell_type": "code",
   "execution_count": null,
   "metadata": {},
   "outputs": [],
   "source": [
    "def sort_alpha(string):\n",
    "    pass"
   ]
  },
  {
   "cell_type": "code",
   "execution_count": null,
   "metadata": {},
   "outputs": [],
   "source": [
    "# This will test your function \n",
    "test_alpha(sort_alpha)"
   ]
  },
  {
   "cell_type": "markdown",
   "metadata": {},
   "source": [
    "## 12. Write a function to check if a given password is strong (at least 8 characters, at least one lower case, at least one upper case, at least one number and at least one special character). It should output True if strong and False if not.\n",
    "`Valid special characters: # @ ! $ % & ( ) ^ * [ ] { }`"
   ]
  },
  {
   "cell_type": "code",
   "execution_count": null,
   "metadata": {},
   "outputs": [],
   "source": [
    "def check_pass(string):\n",
    "    pass"
   ]
  },
  {
   "cell_type": "code",
   "execution_count": null,
   "metadata": {},
   "outputs": [],
   "source": [
    "# This will test your function \n",
    "test_pass(check_pass)"
   ]
  }
 ],
 "metadata": {
  "kernelspec": {
   "display_name": "Python 3",
   "language": "python",
   "name": "python3"
  },
  "language_info": {
   "codemirror_mode": {
    "name": "ipython",
    "version": 3
   },
   "file_extension": ".py",
   "mimetype": "text/x-python",
   "name": "python",
   "nbconvert_exporter": "python",
   "pygments_lexer": "ipython3",
   "version": "3.8.5"
  }
 },
 "nbformat": 4,
 "nbformat_minor": 4
}
